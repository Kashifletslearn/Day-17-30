{
  "nbformat": 4,
  "nbformat_minor": 0,
  "metadata": {
    "colab": {
      "provenance": [],
      "authorship_tag": "ABX9TyNb8ji430acR7ET71ReDrzM",
      "include_colab_link": true
    },
    "kernelspec": {
      "name": "python3",
      "display_name": "Python 3"
    },
    "language_info": {
      "name": "python"
    }
  },
  "cells": [
    {
      "cell_type": "markdown",
      "metadata": {
        "id": "view-in-github",
        "colab_type": "text"
      },
      "source": [
        "<a href=\"https://colab.research.google.com/github/Kashifletslearn/Day-17-30/blob/main/Day_17_30.ipynb\" target=\"_parent\"><img src=\"https://colab.research.google.com/assets/colab-badge.svg\" alt=\"Open In Colab\"/></a>"
      ]
    },
    {
      "cell_type": "markdown",
      "source": [
        "# Hello i am Kashif khan let's learn together\n",
        "\n",
        "1.   Github   : https://github.com/Kashifletslearn/Day-17-30\n",
        "2.   Linkedin : https://www.linkedin.com/in/kashifkhank/\n",
        "3.   Gmail    : kashifdocument11@gmail.com\n",
        "\n",
        "\n",
        "\n"
      ],
      "metadata": {
        "id": "__Jx8D8lKlcU"
      }
    },
    {
      "cell_type": "markdown",
      "source": [
        "#For suggestions and improvement Email me\n"
      ],
      "metadata": {
        "id": "NSCSBEllfsLt"
      }
    },
    {
      "cell_type": "markdown",
      "metadata": {
        "id": "POAj5sBgd3gd"
      },
      "source": [
        "#<u>**Problem 1**</u>\n",
        "\n",
        "### In this problem, we are going to calculate distances between some pairs of points :\n",
        "\n",
        "### <u> Measures of distances </u>\n",
        "* ### Euclidean Distance : The distance between two points $(x_{1},y_{1})$ , $(x_{2},y_{2})$ is defined as :\n",
        "${\\displaystyle d(x,y)={\\sqrt {(x_{1}-x_{2})^{2}+(y_{1}-y_{2})^{2}}}.}$\n",
        "\n",
        "* ### Manhattan Distance : The distance between two points $(x_{1},y_{1})$ , $(x_{2},y_{2})$ is defined as :\n",
        "${\\displaystyle d(x,y)=|x_{1}-x_{2}|+|y_{1}-y_{2}|}$\n"
      ]
    },
    {
      "cell_type": "markdown",
      "metadata": {
        "id": "lw7TLsfd-eXc"
      },
      "source": [
        "### Create a 2-D array of 10 points where the x-coordinates and the y-coordinates can take random integral values between 5 and 20.\n",
        "\n",
        "\n",
        "### Next, create two 1-D arrays(one for  Euclidean distance and the other for  Manhattan distance) for these points\n"
      ]
    },
    {
      "cell_type": "code",
      "source": [
        "import numpy as np"
      ],
      "metadata": {
        "id": "SqjOrm5iG2wT"
      },
      "execution_count": 1,
      "outputs": []
    },
    {
      "cell_type": "code",
      "metadata": {
        "id": "TOEq4PEP5y8X",
        "outputId": "aab290a9-9afa-4386-cdac-f8ac6e7b2a94",
        "colab": {
          "base_uri": "https://localhost:8080/"
        }
      },
      "source": [
        "# Creating the 10 points\n",
        "points=np.random.randint(5,20,size=(10,2))\n",
        "points"
      ],
      "execution_count": 2,
      "outputs": [
        {
          "output_type": "execute_result",
          "data": {
            "text/plain": [
              "array([[ 9, 19],\n",
              "       [12,  7],\n",
              "       [14, 17],\n",
              "       [ 6, 12],\n",
              "       [ 9,  5],\n",
              "       [14, 15],\n",
              "       [ 8, 12],\n",
              "       [ 7, 17],\n",
              "       [ 8, 15],\n",
              "       [12,  5]])"
            ]
          },
          "metadata": {},
          "execution_count": 2
        }
      ]
    },
    {
      "cell_type": "code",
      "metadata": {
        "id": "-FIU9Wp97V3P",
        "outputId": "138c2bd0-a71d-4052-b67f-303965f7adcc",
        "colab": {
          "base_uri": "https://localhost:8080/"
        }
      },
      "source": [
        "\n",
        "def manhattan_distance(point1,point2):\n",
        "    \"\"\"Calclates and returns Manhattan Distance\"\"\"\n",
        "    x1,y1=point1\n",
        "    x2,y2=point2\n",
        "    return round((abs(x2-x1)+abs(y2-y1)),2)\n",
        "\n",
        "manhattan_distances=[]\n",
        "for i in range(10):\n",
        "    inner_llist=[]\n",
        "    for j in range(10):\n",
        "        inner_llist.append(manhattan_distance(points[i],points[j]))\n",
        "    manhattan_distances.append(np.asarray(inner_llist))\n",
        "manhattan_distances=np.asarray(manhattan_distances)\n",
        "print(manhattan_distances)"
      ],
      "execution_count": 3,
      "outputs": [
        {
          "output_type": "stream",
          "name": "stdout",
          "text": [
            "[[ 0 15  7 10 14  9  8  4  5 17]\n",
            " [15  0 12 11  5 10  9 15 12  2]\n",
            " [ 7 12  0 13 17  2 11  7  8 14]\n",
            " [10 11 13  0 10 11  2  6  5 13]\n",
            " [14  5 17 10  0 15  8 14 11  3]\n",
            " [ 9 10  2 11 15  0  9  9  6 12]\n",
            " [ 8  9 11  2  8  9  0  6  3 11]\n",
            " [ 4 15  7  6 14  9  6  0  3 17]\n",
            " [ 5 12  8  5 11  6  3  3  0 14]\n",
            " [17  2 14 13  3 12 11 17 14  0]]\n"
          ]
        }
      ]
    }
  ]
}